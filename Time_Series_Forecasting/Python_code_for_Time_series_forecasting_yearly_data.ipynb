{
 "cells": [
  {
   "cell_type": "markdown",
   "id": "447f46c3",
   "metadata": {},
   "source": [
    "## Time Series Part A, Yearly temperature data"
   ]
  },
  {
   "cell_type": "code",
   "execution_count": 1,
   "id": "f4d7e412",
   "metadata": {},
   "outputs": [],
   "source": [
    "import pandas as pd\n",
    "import numpy as np\n",
    "from statsmodels.tsa.api import ExponentialSmoothing\n",
    "from statsmodels.tsa.stattools import adfuller\n",
    "from sklearn.metrics import mean_squared_error\n",
    "from sklearn.metrics import mean_absolute_error\n",
    "from pmdarima import auto_arima\n",
    "from statsmodels.tsa.arima.model import ARIMA\n",
    "from statsmodels.tsa.statespace.sarimax import SARIMAX\n",
    "import math\n",
    "from math import sqrt\n",
    "#Visualization Phase\n",
    "import matplotlib.pyplot as plt\n",
    "import seaborn as sns\n",
    "import matplotlib as mpl\n",
    "import matplotlib.pylab as pylab\n",
    "%matplotlib inline\n",
    "\n",
    "#ignore warnings\n",
    "import warnings\n",
    "warnings.filterwarnings('ignore')"
   ]
  },
  {
   "cell_type": "code",
   "execution_count": 2,
   "id": "9e061d35",
   "metadata": {},
   "outputs": [
    {
     "name": "stdout",
     "output_type": "stream",
     "text": [
      "     year    x\n",
      "0    1844  8.5\n",
      "1    1845  8.3\n",
      "2    1846  9.7\n",
      "3    1847  8.9\n",
      "4    1848  8.5\n",
      "..    ...  ...\n",
      "156  2000  9.2\n",
      "157  2001  8.8\n",
      "158  2002  9.5\n",
      "159  2003  9.3\n",
      "160  2004  9.5\n",
      "\n",
      "[161 rows x 2 columns]\n"
     ]
    }
   ],
   "source": [
    "# load the temperature data\n",
    "df = pd.read_csv(\"nity18442004.csv\")\n",
    "\n",
    "# create a year dataframe from 1844 to 2004\n",
    "year_range = range(1844, 2005)\n",
    "year_df = pd.DataFrame({'year': year_range})\n",
    "\n",
    "# concatenate the year dataframe with the temperature data\n",
    "df_concat = pd.concat([year_df, df['x']], axis=1)\n",
    "\n",
    "# print the concatenated dataframe\n",
    "print(df_concat)"
   ]
  },
  {
   "cell_type": "code",
   "execution_count": 3,
   "id": "be7dac55",
   "metadata": {},
   "outputs": [
    {
     "data": {
      "text/plain": [
       "(161, 2)"
      ]
     },
     "execution_count": 3,
     "metadata": {},
     "output_type": "execute_result"
    }
   ],
   "source": [
    "df_concat.shape"
   ]
  },
  {
   "cell_type": "code",
   "execution_count": 4,
   "id": "7dd576ca",
   "metadata": {},
   "outputs": [],
   "source": [
    "df_concat.rename(columns={'x':'temperature'},inplace=True)"
   ]
  },
  {
   "cell_type": "code",
   "execution_count": 5,
   "id": "19be75b9",
   "metadata": {},
   "outputs": [
    {
     "data": {
      "text/plain": [
       "2004"
      ]
     },
     "execution_count": 5,
     "metadata": {},
     "output_type": "execute_result"
    }
   ],
   "source": [
    "df_concat['year'].max()"
   ]
  },
  {
   "cell_type": "code",
   "execution_count": 6,
   "id": "833d744c",
   "metadata": {},
   "outputs": [
    {
     "data": {
      "text/html": [
       "<div>\n",
       "<style scoped>\n",
       "    .dataframe tbody tr th:only-of-type {\n",
       "        vertical-align: middle;\n",
       "    }\n",
       "\n",
       "    .dataframe tbody tr th {\n",
       "        vertical-align: top;\n",
       "    }\n",
       "\n",
       "    .dataframe thead th {\n",
       "        text-align: right;\n",
       "    }\n",
       "</style>\n",
       "<table border=\"1\" class=\"dataframe\">\n",
       "  <thead>\n",
       "    <tr style=\"text-align: right;\">\n",
       "      <th></th>\n",
       "      <th>year</th>\n",
       "      <th>temperature</th>\n",
       "    </tr>\n",
       "  </thead>\n",
       "  <tbody>\n",
       "    <tr>\n",
       "      <th>0</th>\n",
       "      <td>1844</td>\n",
       "      <td>8.5</td>\n",
       "    </tr>\n",
       "    <tr>\n",
       "      <th>1</th>\n",
       "      <td>1845</td>\n",
       "      <td>8.3</td>\n",
       "    </tr>\n",
       "    <tr>\n",
       "      <th>2</th>\n",
       "      <td>1846</td>\n",
       "      <td>9.7</td>\n",
       "    </tr>\n",
       "    <tr>\n",
       "      <th>3</th>\n",
       "      <td>1847</td>\n",
       "      <td>8.9</td>\n",
       "    </tr>\n",
       "    <tr>\n",
       "      <th>4</th>\n",
       "      <td>1848</td>\n",
       "      <td>8.5</td>\n",
       "    </tr>\n",
       "  </tbody>\n",
       "</table>\n",
       "</div>"
      ],
      "text/plain": [
       "   year  temperature\n",
       "0  1844          8.5\n",
       "1  1845          8.3\n",
       "2  1846          9.7\n",
       "3  1847          8.9\n",
       "4  1848          8.5"
      ]
     },
     "execution_count": 6,
     "metadata": {},
     "output_type": "execute_result"
    }
   ],
   "source": [
    "df_concat.head()"
   ]
  },
  {
   "cell_type": "markdown",
   "id": "d9ab9abb",
   "metadata": {},
   "source": [
    "## Visualisation"
   ]
  },
  {
   "cell_type": "markdown",
   "id": "79b2eeb9",
   "metadata": {},
   "source": [
    "## 1.Frequency of temperature yearly"
   ]
  },
  {
   "cell_type": "code",
   "execution_count": 7,
   "id": "d26852fd",
   "metadata": {},
   "outputs": [],
   "source": [
    "df_concat = df_concat.reset_index()"
   ]
  },
  {
   "cell_type": "code",
   "execution_count": 8,
   "id": "36fbd2e1",
   "metadata": {},
   "outputs": [
    {
     "data": {
      "image/png": "[encoded data removed]",
      "text/plain": [
       "<Figure size 640x480 with 1 Axes>"
      ]
     },
     "metadata": {},
     "output_type": "display_data"
    }
   ],
   "source": [
    "plt.plot(df_concat['year'], df_concat['temperature'], linewidth=2)\n",
    "\n",
    "# set the x-axis label and title\n",
    "plt.xlabel('Year')\n",
    "plt.title('Temperature by Year')\n",
    "\n",
    "# display the plot\n",
    "plt.show()"
   ]
  },
  {
   "cell_type": "markdown",
   "id": "257314b4",
   "metadata": {},
   "source": [
    "## 2.Rolling mean and standard deviation"
   ]
  },
  {
   "cell_type": "code",
   "execution_count": 54,
   "id": "3ac20aed",
   "metadata": {},
   "outputs": [],
   "source": [
    "## determine rolling stat\n",
    "rolmean=df_concat.rolling(window=12).mean()\n",
    "rolstd=df_concat.rolling(window=12).std()\n",
    "# print(rolmean,rolstd)"
   ]
  },
  {
   "cell_type": "code",
   "execution_count": 10,
   "id": "207b48bc",
   "metadata": {},
   "outputs": [
    {
     "data": {
      "image/png": "[encoded data removed]",
      "text/plain": [
       "<Figure size 800x500 with 1 Axes>"
      ]
     },
     "metadata": {},
     "output_type": "display_data"
    }
   ],
   "source": [
    "df_decade = df_concat[df_concat['year'] >= 1970]\n",
    "\n",
    "window_size = 12\n",
    "rolling_mean = df_decade['temperature'].rolling(window_size).mean()\n",
    "rolling_std = df_decade['temperature'].rolling(window_size).std()\n",
    "\n",
    "plt.figure(figsize=(8,5))\n",
    "plt.plot(df_decade['temperature'], color='blue', label='Original')\n",
    "plt.plot(rolling_mean, color='red', label='Rolling Mean')\n",
    "plt.plot(rolling_std, color='black', label='Rolling Std')\n",
    "plt.legend(loc='best')\n",
    "plt.title('Rolling Mean & Standard Deviation for 1970-1979')\n",
    "plt.show()"
   ]
  },
  {
   "cell_type": "markdown",
   "id": "73d2bcac",
   "metadata": {},
   "source": [
    "## Check the stationality"
   ]
  },
  {
   "cell_type": "code",
   "execution_count": 7,
   "id": "b5ecce28",
   "metadata": {},
   "outputs": [],
   "source": [
    "def ad_test(dataset):\n",
    "    dftest=adfuller(dataset,autolag='AIC')\n",
    "    print(\"ADF: \",dftest[0])\n",
    "    print(\"P-value: \",dftest[1])\n",
    "    print(\"No. of lags: \",dftest[2])\n",
    "    print(\"No. of observation used for ADF Regression and critical value calculation: \",dftest[3])\n",
    "    print(\"critical value: \")\n",
    "    for key, val in dftest[4].items():\n",
    "        print(\"\\t\",key, \": \",val)"
   ]
  },
  {
   "cell_type": "code",
   "execution_count": 8,
   "id": "a87816d4",
   "metadata": {},
   "outputs": [
    {
     "name": "stdout",
     "output_type": "stream",
     "text": [
      "ADF:  -1.3523756587488236\n",
      "P-value:  0.6048831174332474\n",
      "No. of lags:  6\n",
      "No. of observation used for ADF Regression and critical value calculation:  154\n",
      "critical value: \n",
      "\t 1% :  -3.473542528196209\n",
      "\t 5% :  -2.880497674144038\n",
      "\t 10% :  -2.576878053634677\n"
     ]
    }
   ],
   "source": [
    "ad_test(df_concat['temperature'].values)"
   ]
  },
  {
   "cell_type": "code",
   "execution_count": 12,
   "id": "82976a1b",
   "metadata": {},
   "outputs": [
    {
     "data": {
      "text/plain": [
       "0    2.915476\n",
       "1    2.880972\n",
       "2    3.114482\n",
       "3    2.983287\n",
       "4    2.915476\n",
       "Name: temperature, dtype: float64"
      ]
     },
     "execution_count": 12,
     "metadata": {},
     "output_type": "execute_result"
    }
   ],
   "source": [
    "df_concat.head()"
   ]
  },
  {
   "cell_type": "markdown",
   "id": "fd1477cf",
   "metadata": {},
   "source": [
    "## convert to stationary"
   ]
  },
  {
   "cell_type": "code",
   "execution_count": 13,
   "id": "95f9090b",
   "metadata": {},
   "outputs": [],
   "source": [
    "df_concat['temperature'] = df_concat['temperature'] - df_concat['temperature'].shift(1)"
   ]
  },
  {
   "cell_type": "code",
   "execution_count": 14,
   "id": "506466f4",
   "metadata": {},
   "outputs": [
    {
     "data": {
      "text/html": [
       "<div>\n",
       "<style scoped>\n",
       "    .dataframe tbody tr th:only-of-type {\n",
       "        vertical-align: middle;\n",
       "    }\n",
       "\n",
       "    .dataframe tbody tr th {\n",
       "        vertical-align: top;\n",
       "    }\n",
       "\n",
       "    .dataframe thead th {\n",
       "        text-align: right;\n",
       "    }\n",
       "</style>\n",
       "<table border=\"1\" class=\"dataframe\">\n",
       "  <thead>\n",
       "    <tr style=\"text-align: right;\">\n",
       "      <th></th>\n",
       "      <th>year</th>\n",
       "      <th>temperature</th>\n",
       "    </tr>\n",
       "  </thead>\n",
       "  <tbody>\n",
       "    <tr>\n",
       "      <th>0</th>\n",
       "      <td>1844</td>\n",
       "      <td>NaN</td>\n",
       "    </tr>\n",
       "    <tr>\n",
       "      <th>1</th>\n",
       "      <td>1845</td>\n",
       "      <td>-0.2</td>\n",
       "    </tr>\n",
       "    <tr>\n",
       "      <th>2</th>\n",
       "      <td>1846</td>\n",
       "      <td>1.4</td>\n",
       "    </tr>\n",
       "    <tr>\n",
       "      <th>3</th>\n",
       "      <td>1847</td>\n",
       "      <td>-0.8</td>\n",
       "    </tr>\n",
       "    <tr>\n",
       "      <th>4</th>\n",
       "      <td>1848</td>\n",
       "      <td>-0.4</td>\n",
       "    </tr>\n",
       "  </tbody>\n",
       "</table>\n",
       "</div>"
      ],
      "text/plain": [
       "   year  temperature\n",
       "0  1844          NaN\n",
       "1  1845         -0.2\n",
       "2  1846          1.4\n",
       "3  1847         -0.8\n",
       "4  1848         -0.4"
      ]
     },
     "execution_count": 14,
     "metadata": {},
     "output_type": "execute_result"
    }
   ],
   "source": [
    "df_concat.head()"
   ]
  },
  {
   "cell_type": "markdown",
   "id": "80239793",
   "metadata": {},
   "source": [
    "## Split Data Train and Test"
   ]
  },
  {
   "cell_type": "code",
   "execution_count": 23,
   "id": "108f51c2",
   "metadata": {},
   "outputs": [],
   "source": [
    "train = pd.DataFrame(df_concat.loc[df_concat['year'] <= 2003, 'temperature'].dropna())\n",
    "test = pd.DataFrame(df_concat.loc[df_concat['year'] == 2004, 'temperature'].dropna())"
   ]
  },
  {
   "cell_type": "code",
   "execution_count": 24,
   "id": "85dbcfb6",
   "metadata": {},
   "outputs": [
    {
     "data": {
      "text/html": [
       "<div>\n",
       "<style scoped>\n",
       "    .dataframe tbody tr th:only-of-type {\n",
       "        vertical-align: middle;\n",
       "    }\n",
       "\n",
       "    .dataframe tbody tr th {\n",
       "        vertical-align: top;\n",
       "    }\n",
       "\n",
       "    .dataframe thead th {\n",
       "        text-align: right;\n",
       "    }\n",
       "</style>\n",
       "<table border=\"1\" class=\"dataframe\">\n",
       "  <thead>\n",
       "    <tr style=\"text-align: right;\">\n",
       "      <th></th>\n",
       "      <th>temperature</th>\n",
       "    </tr>\n",
       "  </thead>\n",
       "  <tbody>\n",
       "    <tr>\n",
       "      <th>1</th>\n",
       "      <td>-0.2</td>\n",
       "    </tr>\n",
       "    <tr>\n",
       "      <th>2</th>\n",
       "      <td>1.4</td>\n",
       "    </tr>\n",
       "    <tr>\n",
       "      <th>3</th>\n",
       "      <td>-0.8</td>\n",
       "    </tr>\n",
       "    <tr>\n",
       "      <th>4</th>\n",
       "      <td>-0.4</td>\n",
       "    </tr>\n",
       "    <tr>\n",
       "      <th>5</th>\n",
       "      <td>0.2</td>\n",
       "    </tr>\n",
       "  </tbody>\n",
       "</table>\n",
       "</div>"
      ],
      "text/plain": [
       "   temperature\n",
       "1         -0.2\n",
       "2          1.4\n",
       "3         -0.8\n",
       "4         -0.4\n",
       "5          0.2"
      ]
     },
     "execution_count": 24,
     "metadata": {},
     "output_type": "execute_result"
    }
   ],
   "source": [
    "train.head()"
   ]
  },
  {
   "cell_type": "markdown",
   "id": "52f1c81e",
   "metadata": {},
   "source": [
    "## 1.Build the Exponential model"
   ]
  },
  {
   "cell_type": "code",
   "execution_count": 25,
   "id": "0a7ee929",
   "metadata": {},
   "outputs": [],
   "source": [
    "mode_exp = ExponentialSmoothing(train)\n",
    "fit_exp = mode_exp.fit()\n",
    "pred_exp = fit_exp.forecast(len(test))"
   ]
  },
  {
   "cell_type": "code",
   "execution_count": 26,
   "id": "d66a26dd",
   "metadata": {},
   "outputs": [],
   "source": [
    "pred_exp = fit_exp.forecast(len(test))"
   ]
  },
  {
   "cell_type": "code",
   "execution_count": 31,
   "id": "a1e0a0f4",
   "metadata": {},
   "outputs": [
    {
     "name": "stdout",
     "output_type": "stream",
     "text": [
      "MAE: 0.19496856156459186\n",
      "MSE: 0.038012739998566046\n",
      "RMSE: 0.19496856156459186\n"
     ]
    }
   ],
   "source": [
    "rmse = sqrt(mean_squared_error(pred_exp, test))\n",
    "mae = mean_absolute_error(pred_exp, test)\n",
    "mse = mean_squared_error(pred_exp, test)\n",
    "\n",
    "print(\"MAE:\", mae)\n",
    "print(\"MSE:\", mse)\n",
    "print(\"RMSE:\", rmse)"
   ]
  },
  {
   "cell_type": "markdown",
   "id": "8ea25ec1",
   "metadata": {},
   "source": [
    "## 2.ARIMA"
   ]
  },
  {
   "cell_type": "code",
   "execution_count": 33,
   "id": "777d8708",
   "metadata": {},
   "outputs": [
    {
     "data": {
      "text/plain": [
       "(160, 2)"
      ]
     },
     "execution_count": 33,
     "metadata": {},
     "output_type": "execute_result"
    }
   ],
   "source": [
    "df_concat=df_concat[~df_concat['temperature'].isna()]\n",
    "df_concat.shape"
   ]
  },
  {
   "cell_type": "code",
   "execution_count": 34,
   "id": "3f07468f",
   "metadata": {},
   "outputs": [
    {
     "name": "stdout",
     "output_type": "stream",
     "text": [
      "Performing stepwise search to minimize aic\n",
      " ARIMA(2,0,2)(0,0,0)[0] intercept   : AIC=216.467, Time=0.86 sec\n",
      " ARIMA(0,0,0)(0,0,0)[0] intercept   : AIC=298.693, Time=0.04 sec\n",
      " ARIMA(1,0,0)(0,0,0)[0] intercept   : AIC=247.590, Time=0.03 sec\n",
      " ARIMA(0,0,1)(0,0,0)[0] intercept   : AIC=213.513, Time=0.06 sec\n",
      " ARIMA(0,0,0)(0,0,0)[0]             : AIC=296.709, Time=0.02 sec\n",
      " ARIMA(1,0,1)(0,0,0)[0] intercept   : AIC=215.311, Time=0.08 sec\n",
      " ARIMA(0,0,2)(0,0,0)[0] intercept   : AIC=215.330, Time=0.08 sec\n",
      " ARIMA(1,0,2)(0,0,0)[0] intercept   : AIC=216.772, Time=0.17 sec\n",
      " ARIMA(0,0,1)(0,0,0)[0]             : AIC=211.771, Time=0.07 sec\n",
      " ARIMA(1,0,1)(0,0,0)[0]             : AIC=213.564, Time=0.05 sec\n",
      " ARIMA(0,0,2)(0,0,0)[0]             : AIC=213.583, Time=0.09 sec\n",
      " ARIMA(1,0,0)(0,0,0)[0]             : AIC=245.646, Time=0.04 sec\n",
      " ARIMA(1,0,2)(0,0,0)[0]             : AIC=215.028, Time=0.09 sec\n",
      "\n",
      "Best model:  ARIMA(0,0,1)(0,0,0)[0]          \n",
      "Total fit time: 1.867 seconds\n"
     ]
    },
    {
     "data": {
      "text/html": [
       "<table class=\"simpletable\">\n",
       "<caption>SARIMAX Results</caption>\n",
       "<tr>\n",
       "  <th>Dep. Variable:</th>           <td>y</td>        <th>  No. Observations:  </th>    <td>160</td>  \n",
       "</tr>\n",
       "<tr>\n",
       "  <th>Model:</th>           <td>SARIMAX(0, 0, 1)</td> <th>  Log Likelihood     </th> <td>-103.885</td>\n",
       "</tr>\n",
       "<tr>\n",
       "  <th>Date:</th>            <td>Thu, 11 May 2023</td> <th>  AIC                </th>  <td>211.771</td>\n",
       "</tr>\n",
       "<tr>\n",
       "  <th>Time:</th>                <td>15:30:05</td>     <th>  BIC                </th>  <td>217.921</td>\n",
       "</tr>\n",
       "<tr>\n",
       "  <th>Sample:</th>                  <td>0</td>        <th>  HQIC               </th>  <td>214.268</td>\n",
       "</tr>\n",
       "<tr>\n",
       "  <th></th>                      <td> - 160</td>      <th>                     </th>     <td> </td>   \n",
       "</tr>\n",
       "<tr>\n",
       "  <th>Covariance Type:</th>        <td>opg</td>       <th>                     </th>     <td> </td>   \n",
       "</tr>\n",
       "</table>\n",
       "<table class=\"simpletable\">\n",
       "<tr>\n",
       "     <td></td>       <th>coef</th>     <th>std err</th>      <th>z</th>      <th>P>|z|</th>  <th>[0.025</th>    <th>0.975]</th>  \n",
       "</tr>\n",
       "<tr>\n",
       "  <th>ma.L1</th>  <td>   -0.8238</td> <td>    0.053</td> <td>  -15.663</td> <td> 0.000</td> <td>   -0.927</td> <td>   -0.721</td>\n",
       "</tr>\n",
       "<tr>\n",
       "  <th>sigma2</th> <td>    0.2130</td> <td>    0.021</td> <td>   10.215</td> <td> 0.000</td> <td>    0.172</td> <td>    0.254</td>\n",
       "</tr>\n",
       "</table>\n",
       "<table class=\"simpletable\">\n",
       "<tr>\n",
       "  <th>Ljung-Box (L1) (Q):</th>     <td>0.19</td> <th>  Jarque-Bera (JB):  </th> <td>3.91</td> \n",
       "</tr>\n",
       "<tr>\n",
       "  <th>Prob(Q):</th>                <td>0.66</td> <th>  Prob(JB):          </th> <td>0.14</td> \n",
       "</tr>\n",
       "<tr>\n",
       "  <th>Heteroskedasticity (H):</th> <td>0.77</td> <th>  Skew:              </th> <td>-0.19</td>\n",
       "</tr>\n",
       "<tr>\n",
       "  <th>Prob(H) (two-sided):</th>    <td>0.35</td> <th>  Kurtosis:          </th> <td>3.67</td> \n",
       "</tr>\n",
       "</table><br/><br/>Warnings:<br/>[1] Covariance matrix calculated using the outer product of gradients (complex-step)."
      ],
      "text/plain": [
       "<class 'statsmodels.iolib.summary.Summary'>\n",
       "\"\"\"\n",
       "                               SARIMAX Results                                \n",
       "==============================================================================\n",
       "Dep. Variable:                      y   No. Observations:                  160\n",
       "Model:               SARIMAX(0, 0, 1)   Log Likelihood                -103.885\n",
       "Date:                Thu, 11 May 2023   AIC                            211.771\n",
       "Time:                        15:30:05   BIC                            217.921\n",
       "Sample:                             0   HQIC                           214.268\n",
       "                                - 160                                         \n",
       "Covariance Type:                  opg                                         \n",
       "==============================================================================\n",
       "                 coef    std err          z      P>|z|      [0.025      0.975]\n",
       "------------------------------------------------------------------------------\n",
       "ma.L1         -0.8238      0.053    -15.663      0.000      -0.927      -0.721\n",
       "sigma2         0.2130      0.021     10.215      0.000       0.172       0.254\n",
       "===================================================================================\n",
       "Ljung-Box (L1) (Q):                   0.19   Jarque-Bera (JB):                 3.91\n",
       "Prob(Q):                              0.66   Prob(JB):                         0.14\n",
       "Heteroskedasticity (H):               0.77   Skew:                            -0.19\n",
       "Prob(H) (two-sided):                  0.35   Kurtosis:                         3.67\n",
       "===================================================================================\n",
       "\n",
       "Warnings:\n",
       "[1] Covariance matrix calculated using the outer product of gradients (complex-step).\n",
       "\"\"\""
      ]
     },
     "execution_count": 34,
     "metadata": {},
     "output_type": "execute_result"
    }
   ],
   "source": [
    "stepwise_fit=auto_arima(df_concat['temperature'],trace=True,suppress_warnings=True)\n",
    "stepwise_fit.summary()"
   ]
  },
  {
   "cell_type": "code",
   "execution_count": 36,
   "id": "2c98c0f2",
   "metadata": {},
   "outputs": [
    {
     "data": {
      "text/html": [
       "<table class=\"simpletable\">\n",
       "<caption>SARIMAX Results</caption>\n",
       "<tr>\n",
       "  <th>Dep. Variable:</th>      <td>temperature</td>   <th>  No. Observations:  </th>    <td>159</td>  \n",
       "</tr>\n",
       "<tr>\n",
       "  <th>Model:</th>            <td>ARIMA(0, 0, 1)</td>  <th>  Log Likelihood     </th> <td>-103.360</td>\n",
       "</tr>\n",
       "<tr>\n",
       "  <th>Date:</th>            <td>Thu, 11 May 2023</td> <th>  AIC                </th>  <td>212.719</td>\n",
       "</tr>\n",
       "<tr>\n",
       "  <th>Time:</th>                <td>15:30:43</td>     <th>  BIC                </th>  <td>221.926</td>\n",
       "</tr>\n",
       "<tr>\n",
       "  <th>Sample:</th>                  <td>0</td>        <th>  HQIC               </th>  <td>216.458</td>\n",
       "</tr>\n",
       "<tr>\n",
       "  <th></th>                      <td> - 159</td>      <th>                     </th>     <td> </td>   \n",
       "</tr>\n",
       "<tr>\n",
       "  <th>Covariance Type:</th>        <td>opg</td>       <th>                     </th>     <td> </td>   \n",
       "</tr>\n",
       "</table>\n",
       "<table class=\"simpletable\">\n",
       "<tr>\n",
       "     <td></td>       <th>coef</th>     <th>std err</th>      <th>z</th>      <th>P>|z|</th>  <th>[0.025</th>    <th>0.975]</th>  \n",
       "</tr>\n",
       "<tr>\n",
       "  <th>const</th>  <td>    0.0029</td> <td>    0.007</td> <td>    0.445</td> <td> 0.656</td> <td>   -0.010</td> <td>    0.016</td>\n",
       "</tr>\n",
       "<tr>\n",
       "  <th>ma.L1</th>  <td>   -0.8288</td> <td>    0.052</td> <td>  -15.953</td> <td> 0.000</td> <td>   -0.931</td> <td>   -0.727</td>\n",
       "</tr>\n",
       "<tr>\n",
       "  <th>sigma2</th> <td>    0.2133</td> <td>    0.021</td> <td>   10.149</td> <td> 0.000</td> <td>    0.172</td> <td>    0.254</td>\n",
       "</tr>\n",
       "</table>\n",
       "<table class=\"simpletable\">\n",
       "<tr>\n",
       "  <th>Ljung-Box (L1) (Q):</th>     <td>0.15</td> <th>  Jarque-Bera (JB):  </th> <td>3.84</td> \n",
       "</tr>\n",
       "<tr>\n",
       "  <th>Prob(Q):</th>                <td>0.70</td> <th>  Prob(JB):          </th> <td>0.15</td> \n",
       "</tr>\n",
       "<tr>\n",
       "  <th>Heteroskedasticity (H):</th> <td>0.78</td> <th>  Skew:              </th> <td>-0.18</td>\n",
       "</tr>\n",
       "<tr>\n",
       "  <th>Prob(H) (two-sided):</th>    <td>0.37</td> <th>  Kurtosis:          </th> <td>3.67</td> \n",
       "</tr>\n",
       "</table><br/><br/>Warnings:<br/>[1] Covariance matrix calculated using the outer product of gradients (complex-step)."
      ],
      "text/plain": [
       "<class 'statsmodels.iolib.summary.Summary'>\n",
       "\"\"\"\n",
       "                               SARIMAX Results                                \n",
       "==============================================================================\n",
       "Dep. Variable:            temperature   No. Observations:                  159\n",
       "Model:                 ARIMA(0, 0, 1)   Log Likelihood                -103.360\n",
       "Date:                Thu, 11 May 2023   AIC                            212.719\n",
       "Time:                        15:30:43   BIC                            221.926\n",
       "Sample:                             0   HQIC                           216.458\n",
       "                                - 159                                         \n",
       "Covariance Type:                  opg                                         \n",
       "==============================================================================\n",
       "                 coef    std err          z      P>|z|      [0.025      0.975]\n",
       "------------------------------------------------------------------------------\n",
       "const          0.0029      0.007      0.445      0.656      -0.010       0.016\n",
       "ma.L1         -0.8288      0.052    -15.953      0.000      -0.931      -0.727\n",
       "sigma2         0.2133      0.021     10.149      0.000       0.172       0.254\n",
       "===================================================================================\n",
       "Ljung-Box (L1) (Q):                   0.15   Jarque-Bera (JB):                 3.84\n",
       "Prob(Q):                              0.70   Prob(JB):                         0.15\n",
       "Heteroskedasticity (H):               0.78   Skew:                            -0.18\n",
       "Prob(H) (two-sided):                  0.37   Kurtosis:                         3.67\n",
       "===================================================================================\n",
       "\n",
       "Warnings:\n",
       "[1] Covariance matrix calculated using the outer product of gradients (complex-step).\n",
       "\"\"\""
      ]
     },
     "execution_count": 36,
     "metadata": {},
     "output_type": "execute_result"
    }
   ],
   "source": [
    "model_arima=ARIMA(train,order=(0,0,1))\n",
    "model_arima=model_arima.fit()\n",
    "model_arima.summary()"
   ]
  },
  {
   "cell_type": "code",
   "execution_count": 37,
   "id": "6e15ff53",
   "metadata": {},
   "outputs": [
    {
     "name": "stdout",
     "output_type": "stream",
     "text": [
      "159   -0.130112\n",
      "dtype: float64\n"
     ]
    }
   ],
   "source": [
    "start=len(train)\n",
    "end=len(train)+len(test)-1\n",
    "pred=model_arima.predict(start=start,end=end,typ='levels')\n",
    "print(pred)"
   ]
  },
  {
   "cell_type": "code",
   "execution_count": 38,
   "id": "b463a3ec",
   "metadata": {},
   "outputs": [
    {
     "name": "stdout",
     "output_type": "stream",
     "text": [
      "MAE: 0.33011155171575385\n",
      "MSE: 0.10897363657618282\n",
      "RMSE: 0.33011155171575385\n"
     ]
    }
   ],
   "source": [
    "rmse = sqrt(mean_squared_error(pred, test))\n",
    "mae = mean_absolute_error(test, pred)\n",
    "mse = mean_squared_error(test, pred)\n",
    "\n",
    "print(\"MAE:\", mae)\n",
    "print(\"MSE:\", mse)\n",
    "print(\"RMSE:\",rmse)"
   ]
  },
  {
   "cell_type": "markdown",
   "id": "097672b3",
   "metadata": {},
   "source": [
    "## 3. ARIMA AIC"
   ]
  },
  {
   "cell_type": "code",
   "execution_count": 45,
   "id": "f786fd4e",
   "metadata": {},
   "outputs": [],
   "source": [
    "model2 = ARIMA(train, order=(0,0,1))\n",
    "model_fit = model2.fit()"
   ]
  },
  {
   "cell_type": "code",
   "execution_count": 46,
   "id": "38ef0993",
   "metadata": {},
   "outputs": [],
   "source": [
    "train_aic = model_fit.aic"
   ]
  },
  {
   "cell_type": "code",
   "execution_count": 47,
   "id": "f6a9bd22",
   "metadata": {},
   "outputs": [],
   "source": [
    "test_residuals = test - pred\n",
    "test_sse = np.sum(test_residuals**2)\n",
    "test_n = len(test_residuals)\n",
    "test_aic = test_n * np.log(test_sse/test_n) + 2 * (4+1+3)/test_n"
   ]
  },
  {
   "cell_type": "code",
   "execution_count": 48,
   "id": "dd8b6b5d",
   "metadata": {},
   "outputs": [
    {
     "name": "stdout",
     "output_type": "stream",
     "text": [
      "MSE:  0.10897363657618282\n",
      "MAE:  0.33011155171575385\n",
      "RMSE:  0.33011155171575385\n"
     ]
    }
   ],
   "source": [
    "mse = mean_squared_error(test.temperature, pred)\n",
    "mae = mean_absolute_error(test.temperature, pred)\n",
    "rmse = math.sqrt(mse)\n",
    "\n",
    "print(\"MSE: \", mse)\n",
    "print(\"MAE: \", mae)\n",
    "print(\"RMSE: \", rmse)"
   ]
  },
  {
   "cell_type": "markdown",
   "id": "eca694e4",
   "metadata": {},
   "source": [
    "## 4.Sarima"
   ]
  },
  {
   "cell_type": "code",
   "execution_count": 49,
   "id": "744a321d",
   "metadata": {},
   "outputs": [
    {
     "name": "stdout",
     "output_type": "stream",
     "text": [
      "                                     SARIMAX Results                                      \n",
      "==========================================================================================\n",
      "Dep. Variable:                        temperature   No. Observations:                  159\n",
      "Model:             SARIMAX(0, 0, 1)x(1, 1, 1, 12)   Log Likelihood                -110.428\n",
      "Date:                            Thu, 11 May 2023   AIC                            228.856\n",
      "Time:                                    15:33:26   BIC                            240.818\n",
      "Sample:                                         0   HQIC                           233.716\n",
      "                                            - 159                                         \n",
      "Covariance Type:                              opg                                         \n",
      "==============================================================================\n",
      "                 coef    std err          z      P>|z|      [0.025      0.975]\n",
      "------------------------------------------------------------------------------\n",
      "ma.L1         -0.8200      0.054    -15.276      0.000      -0.925      -0.715\n",
      "ar.S.L12       0.0562      0.107      0.526      0.599      -0.153       0.266\n",
      "ma.S.L12      -0.9968      4.814     -0.207      0.836     -10.432       8.438\n",
      "sigma2         0.2137      1.016      0.210      0.833      -1.778       2.205\n",
      "===================================================================================\n",
      "Ljung-Box (L1) (Q):                   0.12   Jarque-Bera (JB):                 0.93\n",
      "Prob(Q):                              0.73   Prob(JB):                         0.63\n",
      "Heteroskedasticity (H):               0.72   Skew:                             0.11\n",
      "Prob(H) (two-sided):                  0.25   Kurtosis:                         2.68\n",
      "===================================================================================\n",
      "\n",
      "Warnings:\n",
      "[1] Covariance matrix calculated using the outer product of gradients (complex-step).\n"
     ]
    }
   ],
   "source": [
    "models = SARIMAX(train, order=(0,0,1), seasonal_order=(1, 1, 1, 12))\n",
    "model_fits = models.fit()\n",
    "print(model_fits.summary())"
   ]
  },
  {
   "cell_type": "code",
   "execution_count": 50,
   "id": "bea96516",
   "metadata": {},
   "outputs": [
    {
     "name": "stdout",
     "output_type": "stream",
     "text": [
      "159   -0.108339\n",
      "dtype: float64\n"
     ]
    }
   ],
   "source": [
    "start=len(train)\n",
    "end=len(train)+len(test)-1\n",
    "pred=model_fits.predict(start=start,end=end,typ='levels')\n",
    "print(pred)"
   ]
  },
  {
   "cell_type": "code",
   "execution_count": 51,
   "id": "13dc4b09",
   "metadata": {},
   "outputs": [
    {
     "name": "stdout",
     "output_type": "stream",
     "text": [
      "MAE: 0.3083388887163567\n",
      "MSE: 0.09507287029483778\n",
      "RMSE: 0.3083388887163567\n"
     ]
    }
   ],
   "source": [
    "rmse = sqrt(mean_squared_error(pred, test))\n",
    "mae = mean_absolute_error(test, pred)\n",
    "mse = mean_squared_error(test, pred)\n",
    "\n",
    "print(\"MAE:\", mae)\n",
    "print(\"MSE:\", mse)\n",
    "print(\"RMSE:\",rmse)"
   ]
  },
  {
   "cell_type": "markdown",
   "id": "179a423d",
   "metadata": {},
   "source": [
    "## 5.Simple time series model - Seasonal Naive"
   ]
  },
  {
   "cell_type": "code",
   "execution_count": 52,
   "id": "a819b384",
   "metadata": {},
   "outputs": [
    {
     "name": "stdout",
     "output_type": "stream",
     "text": [
      "MAE:  0.3999999999999986\n",
      "MSE:  0.15999999999999887\n",
      "RMSE:  0.3999999999999986\n"
     ]
    }
   ],
   "source": [
    "dd = np.asarray(train.temperature)\n",
    "y_hat = test.copy()\n",
    "y_hat['naive'] = dd[len(dd)-1]\n",
    "\n",
    "mae = mean_absolute_error(test.temperature, y_hat.naive)\n",
    "mse = mean_squared_error(test.temperature, y_hat.naive)\n",
    "rmse = math.sqrt(mse)\n",
    "\n",
    "print(\"MAE: \", mae)\n",
    "print(\"MSE: \", mse)\n",
    "print(\"RMSE: \", rmse)"
   ]
  },
  {
   "cell_type": "code",
   "execution_count": null,
   "id": "509bc455",
   "metadata": {},
   "outputs": [],
   "source": []
  }
 ],
 "metadata": {
  "kernelspec": {
   "display_name": "Python 3 (ipykernel)",
   "language": "python",
   "name": "python3"
  },
  "language_info": {
   "codemirror_mode": {
    "name": "ipython",
    "version": 3
   },
   "file_extension": ".py",
   "mimetype": "text/x-python",
   "name": "python",
   "nbconvert_exporter": "python",
   "pygments_lexer": "ipython3",
   "version": "3.9.13"
  }
 },
 "nbformat": 4,
 "nbformat_minor": 5
}
